{
  "nbformat": 4,
  "nbformat_minor": 0,
  "metadata": {
    "colab": {
      "provenance": [],
      "authorship_tag": "ABX9TyPYfzmkNjBgzvp7EsDxMStB",
      "include_colab_link": true
    },
    "kernelspec": {
      "name": "python3",
      "display_name": "Python 3"
    },
    "language_info": {
      "name": "python"
    }
  },
  "cells": [
    {
      "cell_type": "markdown",
      "metadata": {
        "id": "view-in-github",
        "colab_type": "text"
      },
      "source": [
        "<a href=\"https://colab.research.google.com/github/Kanahayameilia/week04/blob/main/week4.ipynb\" target=\"_parent\"><img src=\"https://colab.research.google.com/assets/colab-badge.svg\" alt=\"Open In Colab\"/></a>"
      ]
    },
    {
      "cell_type": "markdown",
      "source": [
        "Operasi Pembanding ->ketika sebuah kondisi untuk membandingkan antara 2 values dengan beberapa operasi berikut:\n",
        "  == sama\n",
        "  != tidak sama\n",
        "  > lebih besar dari\n",
        "  < lebih kecil dari\n",
        "  >= lebih besar dari sama dengan\n",
        "  <= lebih kecil dari sama dengan\n"
      ],
      "metadata": {
        "id": "lqTAm7z9S0nB"
      }
    },
    {
      "cell_type": "code",
      "execution_count": 1,
      "metadata": {
        "colab": {
          "base_uri": "https://localhost:8080/"
        },
        "id": "3u0Ny15HQrcI",
        "outputId": "2f9d9d96-8bc4-4fdd-9739-09bb67f77d5b"
      },
      "outputs": [
        {
          "output_type": "execute_result",
          "data": {
            "text/plain": [
              "False"
            ]
          },
          "metadata": {},
          "execution_count": 1
        }
      ],
      "source": [
        "a = 5\n",
        "a == 6\n",
        "#hasil false karna 5 tidak sama dengan 6"
      ]
    },
    {
      "cell_type": "code",
      "source": [
        "i = 9\n",
        "i > 0\n",
        "# hasil true karna 9 lebih besar dari 0"
      ],
      "metadata": {
        "colab": {
          "base_uri": "https://localhost:8080/"
        },
        "id": "9sAyfbN9SW0B",
        "outputId": "2d0e5859-4ff1-4980-d435-e2bda6776c5b"
      },
      "execution_count": 2,
      "outputs": [
        {
          "output_type": "execute_result",
          "data": {
            "text/plain": [
              "True"
            ]
          },
          "metadata": {},
          "execution_count": 2
        }
      ]
    },
    {
      "cell_type": "markdown",
      "source": [
        "Percabangan\n"
      ],
      "metadata": {
        "id": "DDwnwQIPTz5x"
      }
    },
    {
      "cell_type": "code",
      "source": [
        "umur = 18\n",
        "if umur < 17:\n",
        "  print(\"Kamu boleh masuk\")\n",
        "else:\n",
        "  print(\"Kamu pulang\")\n",
        "\n",
        "#dinamakan if condition statement:"
      ],
      "metadata": {
        "colab": {
          "base_uri": "https://localhost:8080/"
        },
        "id": "JWhuXOmnUBY_",
        "outputId": "d5dcc6cd-db7e-4a08-e26a-9c1d00306a54"
      },
      "execution_count": 3,
      "outputs": [
        {
          "output_type": "stream",
          "name": "stdout",
          "text": [
            "Kamu pulang\n"
          ]
        }
      ]
    },
    {
      "cell_type": "code",
      "source": [
        "umur = 19\n",
        "\n",
        "if umur > 18:\n",
        "  print(\"Kamu boleh masuk\")\n",
        "else:\n",
        "  print(\"Pulang, mama kamu masak\")\n",
        "\n",
        "print(\"Kamu pulang\")"
      ],
      "metadata": {
        "colab": {
          "base_uri": "https://localhost:8080/"
        },
        "id": "RvuwQygOUVuA",
        "outputId": "ea82ab4b-c9e1-4d4f-b477-dfc1fe89a00f"
      },
      "execution_count": 4,
      "outputs": [
        {
          "output_type": "stream",
          "name": "stdout",
          "text": [
            "Kamu boleh masuk\n",
            "Kamu pulang\n"
          ]
        }
      ]
    },
    {
      "cell_type": "code",
      "source": [
        "umur = 20\n",
        "\n",
        "if umur > 18:\n",
        "  print (\"Kamu boleh masuk\")\n",
        "elif umur == 18:\n",
        "  print(\"Full Bernadya 29Jam\")\n",
        "else:\n",
        "  print(\"kerjain laprak h-1\")\n",
        "\n",
        "print(\"Kamu pulang\")"
      ],
      "metadata": {
        "colab": {
          "base_uri": "https://localhost:8080/"
        },
        "id": "gZiF5rd9VYEp",
        "outputId": "d64d1590-b746-4b7e-e0ae-f730ae4657f1"
      },
      "execution_count": 5,
      "outputs": [
        {
          "output_type": "stream",
          "name": "stdout",
          "text": [
            "Kamu boleh masuk\n",
            "Kamu pulang\n"
          ]
        }
      ]
    },
    {
      "cell_type": "markdown",
      "source": [
        "Operasi Logika -> digunakan untuk cek kondisi yang lebih dari satu atau berulang, contohnya:\n",
        "  and\n",
        "  or\n",
        "  not"
      ],
      "metadata": {
        "id": "oQLcf0s0WU-3"
      }
    },
    {
      "cell_type": "code",
      "source": [
        "tahun_album = 1999\n",
        "\n",
        "if(tahun_album > 1990) and (tahun_album < 2000):\n",
        "  print (\"tahun album ada di antara 1990-2000\")\n",
        "print(\"\")\n",
        "print(\"pindah tahun\")"
      ],
      "metadata": {
        "colab": {
          "base_uri": "https://localhost:8080/"
        },
        "id": "xX4SBZCxWoF4",
        "outputId": "df74f41c-7279-491e-e036-94d6e718e66f"
      },
      "execution_count": 6,
      "outputs": [
        {
          "output_type": "stream",
          "name": "stdout",
          "text": [
            "tahun album ada di antara 1990-2000\n",
            "\n",
            "pindah tahun\n"
          ]
        }
      ]
    },
    {
      "cell_type": "code",
      "source": [
        "#Quiz on Condition\n",
        "\n",
        "#Write an if statement if album had a rating 8.\n",
        "#Test it using the rating for the other album.\n",
        "#If the statement is true print \" This album is amazing ! \"\n",
        "\n",
        "album_rating = float(input(\"Masukan rating album: \"))\n",
        "\n",
        "if album_rating > 8:\n",
        "  print(\"This album is amazing\")"
      ],
      "metadata": {
        "colab": {
          "base_uri": "https://localhost:8080/"
        },
        "id": "jfjpAEYnYAQB",
        "outputId": "dd4534d5-801a-4ea7-9a2e-665267290c88"
      },
      "execution_count": 8,
      "outputs": [
        {
          "output_type": "stream",
          "name": "stdout",
          "text": [
            "Masukan rating album: 10\n",
            "This album is amazing\n"
          ]
        }
      ]
    },
    {
      "cell_type": "code",
      "source": [
        "#Quiz on Condition\n",
        "\n",
        "#Write an if-else statement that performs the following.\n",
        "#If the rating larger then 8 print \"This album is amazing!\"\n",
        "#If the rating is less than or equal to 8 print \"this album is ok\"\n",
        "\n",
        "rating = float(input(\"Masukan rating album: \"))\n",
        "\n",
        "if rating > 8:\n",
        "  print(\"This album is amazing\")\n",
        "else:\n",
        "  print(\"This album is ok\")\n"
      ],
      "metadata": {
        "colab": {
          "base_uri": "https://localhost:8080/"
        },
        "id": "HJ3vs0D-dG2_",
        "outputId": "b6f11a44-217e-492f-e639-1c977fe52382"
      },
      "execution_count": 9,
      "outputs": [
        {
          "output_type": "stream",
          "name": "stdout",
          "text": [
            "Masukan rating album: 6\n",
            "This album is ok\n"
          ]
        }
      ]
    },
    {
      "cell_type": "code",
      "source": [
        "#Quiz on Condition\n",
        "\n",
        "#Write an if statement to determine if an album came out before 1980 or in the years: 1991 or 1993\n",
        "#If the condition is true point out the year the album came out.\n",
        "\n",
        "year = 1991  # Ganti dengan tahun yang ingin Anda cek\n",
        "\n",
        "if year < 1980:\n",
        "  print(\"Album dirilis pada tahun\", year)\n",
        "elif year == 1991 or year == 1993:\n",
        "  print(\"Album dirilis pada tahun\", year)\n",
        "else:\n",
        "  print(\"Tahun rilis tidak sesuai dengan kondisi\")\n",
        "\n"
      ],
      "metadata": {
        "id": "jfTOCdYae-Ug",
        "colab": {
          "base_uri": "https://localhost:8080/"
        },
        "outputId": "eceea836-65de-4dc7-9342-ead117d920a4"
      },
      "execution_count": 11,
      "outputs": [
        {
          "output_type": "stream",
          "name": "stdout",
          "text": [
            "Album dirilis pada tahun 1991\n"
          ]
        }
      ]
    },
    {
      "cell_type": "code",
      "source": [
        "umur = float(input(\"Masukan umur: \"))\n",
        "\n",
        "if umur >=17:\n",
        "  print(\"Boleh buat sim\")\n",
        "else :\n",
        "  print(\"belum boleh buat sim\")\n",
        "\n",
        "print(\"sELESAI, Kamu pulang\")"
      ],
      "metadata": {
        "colab": {
          "base_uri": "https://localhost:8080/"
        },
        "id": "VQI3eQ8JgwLf",
        "outputId": "11a8ae7f-a7f9-4fe6-c74f-ef1d7c97e752"
      },
      "execution_count": 10,
      "outputs": [
        {
          "output_type": "stream",
          "name": "stdout",
          "text": [
            "Masukan umur: 9\n",
            "belum boleh buat sim\n",
            "sELESAI, Kamu pulang\n"
          ]
        }
      ]
    },
    {
      "cell_type": "code",
      "source": [
        "nilai = float(input(\"Masukan nilai: \"))\n",
        "\n",
        "if nilai >= 80:\n",
        "  print(\"A\")\n",
        "elif nilai >= 70:\n",
        "  print(\"B\")\n",
        "elif nilai >= 60:\n",
        "  print(\"C\")\n",
        "elif nilai >= 50:\n",
        "  print(\"D\")\n",
        "else :\n",
        "  print(\"E\")\n",
        "\n",
        "print(\"nilai kamu:> : \" + str(nilai))"
      ],
      "metadata": {
        "colab": {
          "base_uri": "https://localhost:8080/"
        },
        "id": "qB_nGt4Fhdvn",
        "outputId": "7eedb7ef-7b4c-44cf-a6a0-4af488874422"
      },
      "execution_count": 1,
      "outputs": [
        {
          "output_type": "stream",
          "name": "stdout",
          "text": [
            "Masukan nilai: 80\n",
            "A\n",
            "nilai kamu:> : 80.0\n"
          ]
        }
      ]
    },
    {
      "cell_type": "code",
      "source": [
        "nilai = float(input(\"Masukan nilai: \"))\n",
        "\n",
        "if  80.00 <= nilai <=100:\n",
        "  print(\"A\")\n",
        "elif 77.50 <= nilai <= 79.99:\n",
        "  print(\"A-\")\n",
        "elif 75.00 <= nilai <= 77.49:\n",
        "  print(\"A/B\")\n",
        "elif 72.50 <= nilai <= 74.99:\n",
        "  print(\"B+\")\n",
        "elif 70.00 <= nilai <= 72.49:\n",
        "  print(\"B\")\n",
        "elif 67.50 <= nilai <= 69.99:\n",
        "  print(\"B-\")\n",
        "elif 65.50 <= nilai <= 67.49:\n",
        "  print(\"B/C\")\n",
        "elif 62.50 <= nilai <= 64.99:\n",
        "  print(\"C+\")\n",
        "elif 60.00 <= nilai <= 62.49:\n",
        "  print(\"C\")\n",
        "elif 55.00 <= nilai <= 59.99:\n",
        "  print(\"C-\")\n",
        "elif 50.00 <= nilai <= 54.9:\n",
        "  print(\"C/D\")\n",
        "elif 45.00 <= nilai <= 49.99:\n",
        "  print(\"D+\")\n",
        "elif 40.00 <= nilai <= 44.99:\n",
        "  print(\"D\")\n",
        "\n",
        "\n",
        "else :\n",
        "  print(\"E\")\n",
        "\n",
        "print(\"nilai kamu:> : \" + str(nilai))"
      ],
      "metadata": {
        "id": "t_VCEZkciqHH",
        "colab": {
          "base_uri": "https://localhost:8080/"
        },
        "outputId": "526fdbc2-9702-451a-d52a-df4c9c9c7e7f"
      },
      "execution_count": 2,
      "outputs": [
        {
          "output_type": "stream",
          "name": "stdout",
          "text": [
            "Masukan nilai: 65\n",
            "E\n",
            "nilai kamu:> : 65.0\n"
          ]
        }
      ]
    },
    {
      "cell_type": "code",
      "source": [
        "!git --version"
      ],
      "metadata": {
        "colab": {
          "base_uri": "https://localhost:8080/"
        },
        "id": "tOer2R9BI4zt",
        "outputId": "d0b029e7-99c3-45d3-f1e3-2077a9a6ddc1"
      },
      "execution_count": 7,
      "outputs": [
        {
          "output_type": "stream",
          "name": "stdout",
          "text": [
            "git version 2.34.1\n"
          ]
        }
      ]
    },
    {
      "cell_type": "code",
      "source": [
        "!git config --global user.name “Kanahayameilia”"
      ],
      "metadata": {
        "id": "wz5vGDEhIYCZ"
      },
      "execution_count": 9,
      "outputs": []
    },
    {
      "cell_type": "code",
      "source": [
        "!git config --global user.email \"Kanahhayameiliea@gmail.com\""
      ],
      "metadata": {
        "id": "EH7GPslQIn0W"
      },
      "execution_count": 10,
      "outputs": []
    },
    {
      "cell_type": "code",
      "source": [
        "!ls"
      ],
      "metadata": {
        "colab": {
          "base_uri": "https://localhost:8080/"
        },
        "id": "zKds6CteKcjJ",
        "outputId": "ada79e74-5adb-4793-c4c1-db2ab088a341"
      },
      "execution_count": 14,
      "outputs": [
        {
          "output_type": "stream",
          "name": "stdout",
          "text": [
            "sample_data  week04\n"
          ]
        }
      ]
    },
    {
      "cell_type": "code",
      "source": [
        "%cd week04"
      ],
      "metadata": {
        "colab": {
          "base_uri": "https://localhost:8080/"
        },
        "id": "9fNewYE1KesU",
        "outputId": "6fa2cc3b-f0a9-4d97-f184-e23def38f7eb"
      },
      "execution_count": 15,
      "outputs": [
        {
          "output_type": "stream",
          "name": "stdout",
          "text": [
            "/content/week04\n"
          ]
        }
      ]
    },
    {
      "cell_type": "code",
      "source": [
        "!pwd"
      ],
      "metadata": {
        "colab": {
          "base_uri": "https://localhost:8080/"
        },
        "id": "B2GIuXQVKjjB",
        "outputId": "c39656ea-3754-4607-bc63-734f6fc588f9"
      },
      "execution_count": 16,
      "outputs": [
        {
          "output_type": "stream",
          "name": "stdout",
          "text": [
            "/content/week04\n"
          ]
        }
      ]
    },
    {
      "cell_type": "code",
      "source": [
        "!echo “# Some dummy text” >> new.md"
      ],
      "metadata": {
        "id": "ynv52HGxKmQD"
      },
      "execution_count": 17,
      "outputs": []
    },
    {
      "cell_type": "code",
      "source": [
        "!git status"
      ],
      "metadata": {
        "colab": {
          "base_uri": "https://localhost:8080/"
        },
        "id": "PEnuxEEfKpvQ",
        "outputId": "9dcbe7e4-414f-42e3-cbeb-fa8fc010e3ec"
      },
      "execution_count": 18,
      "outputs": [
        {
          "output_type": "stream",
          "name": "stdout",
          "text": [
            "On branch main\n",
            "\n",
            "No commits yet\n",
            "\n",
            "Untracked files:\n",
            "  (use \"git add <file>...\" to include in what will be committed)\n",
            "\t\u001b[31mnew.md\u001b[m\n",
            "\n",
            "nothing added to commit but untracked files present (use \"git add\" to track)\n"
          ]
        }
      ]
    },
    {
      "cell_type": "code",
      "source": [
        "!git add ."
      ],
      "metadata": {
        "id": "ODpH3IQ6KsK_"
      },
      "execution_count": 19,
      "outputs": []
    },
    {
      "cell_type": "code",
      "source": [
        "!git commit -m \"relevant message\""
      ],
      "metadata": {
        "colab": {
          "base_uri": "https://localhost:8080/"
        },
        "id": "K9HrSZUAKv3x",
        "outputId": "57464555-7c33-4d0c-b276-2d22b8faab48"
      },
      "execution_count": 24,
      "outputs": [
        {
          "output_type": "stream",
          "name": "stdout",
          "text": [
            "[main (root-commit) 231bf08] relevant message\n",
            " 1 file changed, 1 insertion(+)\n",
            " create mode 100644 new.md\n"
          ]
        }
      ]
    },
    {
      "cell_type": "code",
      "source": [
        "!git push"
      ],
      "metadata": {
        "colab": {
          "base_uri": "https://localhost:8080/"
        },
        "id": "yIgiAuvCLNR0",
        "outputId": "9db7cfff-492c-45d9-fa50-0e90071d753a"
      },
      "execution_count": 26,
      "outputs": [
        {
          "output_type": "stream",
          "name": "stdout",
          "text": [
            "Enumerating objects: 3, done.\n",
            "Counting objects:  33% (1/3)\rCounting objects:  66% (2/3)\rCounting objects: 100% (3/3)\rCounting objects: 100% (3/3), done.\n",
            "Writing objects:  33% (1/3)\rWriting objects:  66% (2/3)\rWriting objects: 100% (3/3)\rWriting objects: 100% (3/3), 252 bytes | 252.00 KiB/s, done.\n",
            "Total 3 (delta 0), reused 0 (delta 0), pack-reused 0\n",
            "To https://github.com/Kanahayameilia/week04.git\n",
            " * [new branch]      main -> main\n"
          ]
        }
      ]
    }
  ]
}